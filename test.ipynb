{
 "cells": [
  {
   "cell_type": "code",
   "execution_count": 1,
   "metadata": {},
   "outputs": [],
   "source": [
    "import birdthing_api.controllers.bird as bird"
   ]
  },
  {
   "cell_type": "code",
   "execution_count": 2,
   "metadata": {},
   "outputs": [],
   "source": [
    "from pydantic2ts import generate_typescript_defs"
   ]
  },
  {
   "cell_type": "code",
   "execution_count": 5,
   "metadata": {},
   "outputs": [
    {
     "name": "stderr",
     "output_type": "stream",
     "text": [
      "ERROR:pydantic2ts:The --module argument must be a module path separated by dots or a valid filepath\n"
     ]
    },
    {
     "ename": "AttributeError",
     "evalue": "'NoneType' object has no attribute 'loader'",
     "output_type": "error",
     "traceback": [
      "\u001b[0;31m---------------------------------------------------------------------------\u001b[0m",
      "\u001b[0;31mAttributeError\u001b[0m                            Traceback (most recent call last)",
      "Cell \u001b[0;32mIn [5], line 1\u001b[0m\n\u001b[0;32m----> 1\u001b[0m \u001b[43mgenerate_typescript_defs\u001b[49m\u001b[43m(\u001b[49m\u001b[38;5;124;43m\"\u001b[39;49m\u001b[38;5;124;43m/home/jwlarocque/Documents/birdthing/birdthing_api\u001b[39;49m\u001b[38;5;124;43m\"\u001b[39;49m\u001b[43m,\u001b[49m\u001b[43m \u001b[49m\u001b[38;5;124;43m\"\u001b[39;49m\u001b[38;5;124;43m./apiTypes.ts\u001b[39;49m\u001b[38;5;124;43m\"\u001b[39;49m\u001b[43m)\u001b[49m\n",
      "File \u001b[0;32m~/venv/birdthing/lib64/python3.10/site-packages/pydantic2ts/cli/script.py:201\u001b[0m, in \u001b[0;36mgenerate_typescript_defs\u001b[0;34m(module, output, exclude, json2ts_cmd)\u001b[0m\n\u001b[1;32m    194\u001b[0m     \u001b[39mraise\u001b[39;00m \u001b[39mException\u001b[39;00m(\n\u001b[1;32m    195\u001b[0m         \u001b[39m\"\u001b[39m\u001b[39mjson2ts must be installed. Instructions can be found here: \u001b[39m\u001b[39m\"\u001b[39m\n\u001b[1;32m    196\u001b[0m         \u001b[39m\"\u001b[39m\u001b[39mhttps://www.npmjs.com/package/json-schema-to-typescript\u001b[39m\u001b[39m\"\u001b[39m\n\u001b[1;32m    197\u001b[0m     )\n\u001b[1;32m    199\u001b[0m logger\u001b[39m.\u001b[39minfo(\u001b[39m\"\u001b[39m\u001b[39mFinding pydantic models...\u001b[39m\u001b[39m\"\u001b[39m)\n\u001b[0;32m--> 201\u001b[0m models \u001b[39m=\u001b[39m extract_pydantic_models(import_module(module))\n\u001b[1;32m    203\u001b[0m \u001b[39mif\u001b[39;00m exclude:\n\u001b[1;32m    204\u001b[0m     models \u001b[39m=\u001b[39m [m \u001b[39mfor\u001b[39;00m m \u001b[39min\u001b[39;00m models \u001b[39mif\u001b[39;00m m\u001b[39m.\u001b[39m\u001b[39m__name__\u001b[39m \u001b[39mnot\u001b[39;00m \u001b[39min\u001b[39;00m exclude]\n",
      "File \u001b[0;32m~/venv/birdthing/lib64/python3.10/site-packages/pydantic2ts/cli/script.py:47\u001b[0m, in \u001b[0;36mimport_module\u001b[0;34m(path)\u001b[0m\n\u001b[1;32m     43\u001b[0m \u001b[39mexcept\u001b[39;00m \u001b[39mException\u001b[39;00m \u001b[39mas\u001b[39;00m e:\n\u001b[1;32m     44\u001b[0m     logger\u001b[39m.\u001b[39merror(\n\u001b[1;32m     45\u001b[0m         \u001b[39m\"\u001b[39m\u001b[39mThe --module argument must be a module path separated by dots or a valid filepath\u001b[39m\u001b[39m\"\u001b[39m\n\u001b[1;32m     46\u001b[0m     )\n\u001b[0;32m---> 47\u001b[0m     \u001b[39mraise\u001b[39;00m e\n",
      "File \u001b[0;32m~/venv/birdthing/lib64/python3.10/site-packages/pydantic2ts/cli/script.py:37\u001b[0m, in \u001b[0;36mimport_module\u001b[0;34m(path)\u001b[0m\n\u001b[1;32m     35\u001b[0m name \u001b[39m=\u001b[39m uuid4()\u001b[39m.\u001b[39mhex\n\u001b[1;32m     36\u001b[0m spec \u001b[39m=\u001b[39m spec_from_file_location(name, path, submodule_search_locations\u001b[39m=\u001b[39m[])\n\u001b[0;32m---> 37\u001b[0m module \u001b[39m=\u001b[39m module_from_spec(spec)\n\u001b[1;32m     38\u001b[0m sys\u001b[39m.\u001b[39mmodules[name] \u001b[39m=\u001b[39m module\n\u001b[1;32m     39\u001b[0m spec\u001b[39m.\u001b[39mloader\u001b[39m.\u001b[39mexec_module(module)\n",
      "File \u001b[0;32m<frozen importlib._bootstrap>:568\u001b[0m, in \u001b[0;36mmodule_from_spec\u001b[0;34m(spec)\u001b[0m\n",
      "\u001b[0;31mAttributeError\u001b[0m: 'NoneType' object has no attribute 'loader'"
     ]
    }
   ],
   "source": [
    "generate_typescript_defs(\"/home/jwlarocque/Documents/birdthing/birdthing_api\", \"./apiTypes.ts\")"
   ]
  },
  {
   "cell_type": "code",
   "execution_count": null,
   "metadata": {},
   "outputs": [],
   "source": []
  }
 ],
 "metadata": {
  "kernelspec": {
   "display_name": "Python 3.10.8 ('birdthing')",
   "language": "python",
   "name": "python3"
  },
  "language_info": {
   "codemirror_mode": {
    "name": "ipython",
    "version": 3
   },
   "file_extension": ".py",
   "mimetype": "text/x-python",
   "name": "python",
   "nbconvert_exporter": "python",
   "pygments_lexer": "ipython3",
   "version": "3.10.8"
  },
  "orig_nbformat": 4,
  "vscode": {
   "interpreter": {
    "hash": "c6b26d2b8bfa7280949608af24a03f0855ef0d4d0705a2a76b671b3de8e6bfd8"
   }
  }
 },
 "nbformat": 4,
 "nbformat_minor": 2
}
